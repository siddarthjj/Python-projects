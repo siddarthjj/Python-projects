{
 "cells": [
  {
   "cell_type": "code",
   "execution_count": 10,
   "id": "619423a1",
   "metadata": {},
   "outputs": [],
   "source": [
    "# import qrcode as qr\n",
    "# img = qr.make(\"https://www.youtube.com/@wscubetech\")\n",
    "# img.save(\"wsyoutube.png\")"
   ]
  },
  {
   "cell_type": "markdown",
   "id": "6d45cfe7",
   "metadata": {},
   "source": [
    "to add border and style the qr code "
   ]
  },
  {
   "cell_type": "code",
   "execution_count": 14,
   "id": "b3c78851",
   "metadata": {},
   "outputs": [],
   "source": [
    "import qrcode \n",
    "from PIL import Image\n",
    "qr=qrcode.QRCode(version=1, \n",
    "                  error_correction=qrcode.constants.ERROR_CORRECT_H,\n",
    "                  box_size=10,border = 4)\n",
    "qr.add_data(\"https://www.youtube.com/watch?v=FOGRHBp6lvM&list=PLjVLYmrlmjGfAUdLiF2bQ-0l8SwNZ1sBl&index=1&t=479s\")\n",
    "qr.make(fit=True)\n",
    "img = qr.make_image(fill_color=\"red\",back_color=\"blue\")\n",
    "img.save(\"videolink.png\")"
   ]
  }
 ],
 "metadata": {
  "kernelspec": {
   "display_name": "Python 3 (ipykernel)",
   "language": "python",
   "name": "python3"
  },
  "language_info": {
   "codemirror_mode": {
    "name": "ipython",
    "version": 3
   },
   "file_extension": ".py",
   "mimetype": "text/x-python",
   "name": "python",
   "nbconvert_exporter": "python",
   "pygments_lexer": "ipython3",
   "version": "3.9.13"
  }
 },
 "nbformat": 4,
 "nbformat_minor": 5
}
