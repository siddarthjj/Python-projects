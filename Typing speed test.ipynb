{
 "cells": [
  {
   "cell_type": "code",
   "execution_count": 33,
   "id": "8ba23af4",
   "metadata": {},
   "outputs": [],
   "source": [
    "from time import *\n",
    "import random as r"
   ]
  },
  {
   "cell_type": "code",
   "execution_count": 34,
   "id": "eaa32a2e",
   "metadata": {},
   "outputs": [],
   "source": [
    "def mistake(partest,usertest):\n",
    "    error = 0\n",
    "    for i in range(len(partest)):\n",
    "        try:\n",
    "            if partest[i] != usertest[i]:\n",
    "                error = error+1\n",
    "        except:\n",
    "            error = error+1\n",
    "    return error"
   ]
  },
  {
   "cell_type": "code",
   "execution_count": 35,
   "id": "ff2f3e16",
   "metadata": {},
   "outputs": [],
   "source": [
    "def speed_time(time_start, time_end, userinput):\n",
    "    time_delay = time_end - time_start\n",
    "    time_R = round(time_delay,2)\n",
    "    speed = len(userinput)/ time_R\n",
    "    return round(speed)\n",
    "    "
   ]
  },
  {
   "cell_type": "code",
   "execution_count": 37,
   "id": "039f04c0",
   "metadata": {},
   "outputs": [
    {
     "name": "stdout",
     "output_type": "stream",
     "text": [
      "*****Typing Speed*****\n",
      "You can fix errors as you go, or correct them at the end with the help of the spell checker. If you need to restart the test, delete the text in the text box. Interactive feedback shows you your current wpm and accuracy.\n",
      "\n",
      "\n",
      "\n",
      "Enter : You can fix errors as you go, or correct them at the end with the help of the spell checker,. If you need to restsrt the tes\n",
      "Speed :  4 word/sec\n",
      "Error :  128\n"
     ]
    }
   ],
   "source": [
    "test =[\"Stimulate your mind as you test your typing speed with this standard English paragraph typing test. Watch your typing speed and accuracy increase as you learn about a variety of new topics! Over 40 typing test selections available.\",\n",
    "       \"To find out how fast you type, just start typing in the blank textbox on the right of the test prompt. You will see your progress, including errors on the left side as you type.\",\n",
    "       \"You can fix errors as you go, or correct them at the end with the help of the spell checker. If you need to restart the test, delete the text in the text box. Interactive feedback shows you your current wpm and accuracy.\"]\n",
    "test1 = r.choice(test)\n",
    "print(\"*****Typing Speed*****\")\n",
    "print(test1)\n",
    "print(\"\\n\\n\")\n",
    "\n",
    "time_1 = time()\n",
    "testinput = input(\"Enter : \")\n",
    "time_2 = time()\n",
    "\n",
    "print(\"Speed : \", speed_time(time_1,time_2,testinput),\"word/sec\")\n",
    "print(\"Error : \", mistake(test1,testinput))"
   ]
  },
  {
   "cell_type": "code",
   "execution_count": null,
   "id": "94507cfa",
   "metadata": {},
   "outputs": [],
   "source": []
  },
  {
   "cell_type": "code",
   "execution_count": null,
   "id": "afc10d15",
   "metadata": {},
   "outputs": [],
   "source": []
  },
  {
   "cell_type": "code",
   "execution_count": null,
   "id": "0983d4f8",
   "metadata": {},
   "outputs": [],
   "source": []
  }
 ],
 "metadata": {
  "kernelspec": {
   "display_name": "Python 3 (ipykernel)",
   "language": "python",
   "name": "python3"
  },
  "language_info": {
   "codemirror_mode": {
    "name": "ipython",
    "version": 3
   },
   "file_extension": ".py",
   "mimetype": "text/x-python",
   "name": "python",
   "nbconvert_exporter": "python",
   "pygments_lexer": "ipython3",
   "version": "3.9.13"
  }
 },
 "nbformat": 4,
 "nbformat_minor": 5
}
